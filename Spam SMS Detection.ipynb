{
 "cells": [
  {
   "cell_type": "code",
   "execution_count": 1,
   "id": "9e45e553-f66d-44fa-86cd-c39631e0e7f2",
   "metadata": {},
   "outputs": [],
   "source": [
    "import pandas as pd\n",
    "import numpy as np\n",
    "import matplotlib.pyplot as plt\n",
    "import seaborn as sns\n",
    "from sklearn.feature_extraction.text import TfidfVectorizer\n",
    "from sklearn.model_selection import train_test_split\n",
    "from sklearn.preprocessing import LabelEncoder\n",
    "from sklearn.linear_model import LogisticRegression\n",
    "from sklearn.ensemble import RandomForestClassifier\n",
    "from sklearn.svm import SVC\n",
    "from sklearn.tree import DecisionTreeClassifier\n",
    "from sklearn.neighbors import KNeighborsClassifier\n",
    "from sklearn.metrics import accuracy_score, confusion_matrix,classification_report\n",
    "import pickle"
   ]
  },
  {
   "cell_type": "code",
   "execution_count": 2,
   "id": "e7f6498e-4d36-4491-ba91-f73e27a60fe7",
   "metadata": {},
   "outputs": [],
   "source": [
    "df = pd.read_csv(\"C:\\\\Users\\\\91878\\\\Downloads\\\\spam.csv\", encoding=\"ISO-8859-1\")"
   ]
  },
  {
   "cell_type": "code",
   "execution_count": 3,
   "id": "f6980a90-a5e4-41f9-a7c4-0f8de3913345",
   "metadata": {},
   "outputs": [
    {
     "data": {
      "text/html": [
       "<div>\n",
       "<style scoped>\n",
       "    .dataframe tbody tr th:only-of-type {\n",
       "        vertical-align: middle;\n",
       "    }\n",
       "\n",
       "    .dataframe tbody tr th {\n",
       "        vertical-align: top;\n",
       "    }\n",
       "\n",
       "    .dataframe thead th {\n",
       "        text-align: right;\n",
       "    }\n",
       "</style>\n",
       "<table border=\"1\" class=\"dataframe\">\n",
       "  <thead>\n",
       "    <tr style=\"text-align: right;\">\n",
       "      <th></th>\n",
       "      <th>v1</th>\n",
       "      <th>v2</th>\n",
       "      <th>Unnamed: 2</th>\n",
       "      <th>Unnamed: 3</th>\n",
       "      <th>Unnamed: 4</th>\n",
       "    </tr>\n",
       "  </thead>\n",
       "  <tbody>\n",
       "    <tr>\n",
       "      <th>0</th>\n",
       "      <td>ham</td>\n",
       "      <td>Go until jurong point, crazy.. Available only ...</td>\n",
       "      <td>NaN</td>\n",
       "      <td>NaN</td>\n",
       "      <td>NaN</td>\n",
       "    </tr>\n",
       "    <tr>\n",
       "      <th>1</th>\n",
       "      <td>ham</td>\n",
       "      <td>Ok lar... Joking wif u oni...</td>\n",
       "      <td>NaN</td>\n",
       "      <td>NaN</td>\n",
       "      <td>NaN</td>\n",
       "    </tr>\n",
       "    <tr>\n",
       "      <th>2</th>\n",
       "      <td>spam</td>\n",
       "      <td>Free entry in 2 a wkly comp to win FA Cup fina...</td>\n",
       "      <td>NaN</td>\n",
       "      <td>NaN</td>\n",
       "      <td>NaN</td>\n",
       "    </tr>\n",
       "    <tr>\n",
       "      <th>3</th>\n",
       "      <td>ham</td>\n",
       "      <td>U dun say so early hor... U c already then say...</td>\n",
       "      <td>NaN</td>\n",
       "      <td>NaN</td>\n",
       "      <td>NaN</td>\n",
       "    </tr>\n",
       "    <tr>\n",
       "      <th>4</th>\n",
       "      <td>ham</td>\n",
       "      <td>Nah I don't think he goes to usf, he lives aro...</td>\n",
       "      <td>NaN</td>\n",
       "      <td>NaN</td>\n",
       "      <td>NaN</td>\n",
       "    </tr>\n",
       "  </tbody>\n",
       "</table>\n",
       "</div>"
      ],
      "text/plain": [
       "     v1                                                 v2 Unnamed: 2  \\\n",
       "0   ham  Go until jurong point, crazy.. Available only ...        NaN   \n",
       "1   ham                      Ok lar... Joking wif u oni...        NaN   \n",
       "2  spam  Free entry in 2 a wkly comp to win FA Cup fina...        NaN   \n",
       "3   ham  U dun say so early hor... U c already then say...        NaN   \n",
       "4   ham  Nah I don't think he goes to usf, he lives aro...        NaN   \n",
       "\n",
       "  Unnamed: 3 Unnamed: 4  \n",
       "0        NaN        NaN  \n",
       "1        NaN        NaN  \n",
       "2        NaN        NaN  \n",
       "3        NaN        NaN  \n",
       "4        NaN        NaN  "
      ]
     },
     "execution_count": 3,
     "metadata": {},
     "output_type": "execute_result"
    }
   ],
   "source": [
    "df.head()"
   ]
  },
  {
   "cell_type": "code",
   "execution_count": 4,
   "id": "f35fd38a-c8a7-4489-816c-eaf11daf7363",
   "metadata": {},
   "outputs": [
    {
     "data": {
      "text/plain": [
       "(5572, 5)"
      ]
     },
     "execution_count": 4,
     "metadata": {},
     "output_type": "execute_result"
    }
   ],
   "source": [
    "df.shape"
   ]
  },
  {
   "cell_type": "code",
   "execution_count": 5,
   "id": "566eae19-c7e8-4254-b81b-c5c6f753ed24",
   "metadata": {},
   "outputs": [
    {
     "name": "stdout",
     "output_type": "stream",
     "text": [
      "<class 'pandas.core.frame.DataFrame'>\n",
      "RangeIndex: 5572 entries, 0 to 5571\n",
      "Data columns (total 5 columns):\n",
      " #   Column      Non-Null Count  Dtype \n",
      "---  ------      --------------  ----- \n",
      " 0   v1          5572 non-null   object\n",
      " 1   v2          5572 non-null   object\n",
      " 2   Unnamed: 2  50 non-null     object\n",
      " 3   Unnamed: 3  12 non-null     object\n",
      " 4   Unnamed: 4  6 non-null      object\n",
      "dtypes: object(5)\n",
      "memory usage: 217.8+ KB\n"
     ]
    }
   ],
   "source": [
    "# Explore data types\n",
    "df.info()"
   ]
  },
  {
   "cell_type": "code",
   "execution_count": 6,
   "id": "088879b2-70fc-4413-8530-2358f066105a",
   "metadata": {},
   "outputs": [
    {
     "data": {
      "text/plain": [
       "v1               0\n",
       "v2               0\n",
       "Unnamed: 2    5522\n",
       "Unnamed: 3    5560\n",
       "Unnamed: 4    5566\n",
       "dtype: int64"
      ]
     },
     "execution_count": 6,
     "metadata": {},
     "output_type": "execute_result"
    }
   ],
   "source": [
    "# Check for missing values\n",
    "df.isnull().sum()"
   ]
  },
  {
   "cell_type": "code",
   "execution_count": 7,
   "id": "f33a256a-5ff1-46c2-9e86-61ca74ffc0f8",
   "metadata": {},
   "outputs": [],
   "source": [
    "df.drop(columns = ['Unnamed: 2','Unnamed: 3','Unnamed: 4'], inplace = True)"
   ]
  },
  {
   "cell_type": "code",
   "execution_count": 8,
   "id": "8b637d79-c73d-4c7b-a1af-450c4be3cf7c",
   "metadata": {},
   "outputs": [
    {
     "data": {
      "text/plain": [
       "v1\n",
       "ham     4825\n",
       "spam     747\n",
       "Name: count, dtype: int64"
      ]
     },
     "execution_count": 8,
     "metadata": {},
     "output_type": "execute_result"
    }
   ],
   "source": [
    "df['v1'].value_counts()   "
   ]
  },
  {
   "cell_type": "code",
   "execution_count": 9,
   "id": "2fa79c89-8dc5-4e69-9fb2-7b456dff7c7f",
   "metadata": {},
   "outputs": [],
   "source": [
    "# Label encoding\n",
    "label_encoder = LabelEncoder()    # 0: ham and 1: \n",
    "df['v1'] = label_encoder.fit_transform(df['v1'])"
   ]
  },
  {
   "cell_type": "code",
   "execution_count": 10,
   "id": "83ab8640-22d8-433a-aa17-92c210c303f5",
   "metadata": {},
   "outputs": [],
   "source": [
    "# Selecting features and target\n",
    "x = df['v2']\n",
    "y = df['v1']"
   ]
  },
  {
   "cell_type": "code",
   "execution_count": 11,
   "id": "a0d36520-7974-4407-a739-c2c6c4301b10",
   "metadata": {},
   "outputs": [
    {
     "name": "stdout",
     "output_type": "stream",
     "text": [
      "(4457,) (1115,) (5572,)\n",
      "(4457,) (1115,) (5572,)\n"
     ]
    }
   ],
   "source": [
    "x_train, x_test, y_train, y_test = train_test_split(x, y, test_size=0.2, random_state=42)      # splitting the data into training data and test data\n",
    "print(x_train.shape, x_test.shape, x.shape)\n",
    "print(y_train.shape, y_test.shape, y.shape)"
   ]
  },
  {
   "cell_type": "code",
   "execution_count": 12,
   "id": "c54180d8-c01c-4335-9ebe-520912c6f881",
   "metadata": {},
   "outputs": [],
   "source": [
    "# transform the text data to feature vectors that can be used as input \n",
    "feature_extraction = TfidfVectorizer(min_df=1, stop_words='english', lowercase=True)\n",
    "x_train_features = feature_extraction.fit_transform(x_train)\n",
    "x_test_features = feature_extraction.transform(x_test)"
   ]
  },
  {
   "cell_type": "code",
   "execution_count": 13,
   "id": "4e186b43-942b-41fa-adb1-bcaed6009497",
   "metadata": {},
   "outputs": [],
   "source": [
    "y_train = y_train.astype('int')\n",
    "y_test = y_test.astype('int')"
   ]
  },
  {
   "cell_type": "markdown",
   "id": "b588aeb4-6ba7-4b93-957c-f94c6cf5b78c",
   "metadata": {},
   "source": [
    "## 1. Logistic Regression"
   ]
  },
  {
   "cell_type": "code",
   "execution_count": 14,
   "id": "9e5cb8dd-84b6-488a-bafe-cc34decb60d1",
   "metadata": {},
   "outputs": [
    {
     "name": "stdout",
     "output_type": "stream",
     "text": [
      "Accuracy on training data =  0.9692618353152345\n",
      "Classification Report: \n",
      "               precision    recall  f1-score   support\n",
      "\n",
      "           0       0.97      1.00      0.98      3860\n",
      "           1       1.00      0.77      0.87       597\n",
      "\n",
      "    accuracy                           0.97      4457\n",
      "   macro avg       0.98      0.89      0.93      4457\n",
      "weighted avg       0.97      0.97      0.97      4457\n",
      "\n",
      "Confusion Matrix: \n",
      " [[3858    2]\n",
      " [ 135  462]]\n",
      "\n",
      "\n",
      "Accuracy on testing data =  0.9524663677130045\n",
      "Classification Report: \n",
      "               precision    recall  f1-score   support\n",
      "\n",
      "           0       0.95      1.00      0.97       965\n",
      "           1       0.97      0.67      0.79       150\n",
      "\n",
      "    accuracy                           0.95      1115\n",
      "   macro avg       0.96      0.83      0.88      1115\n",
      "weighted avg       0.95      0.95      0.95      1115\n",
      "\n",
      "Confusion Matrix: \n",
      " [[962   3]\n",
      " [ 50 100]]\n"
     ]
    }
   ],
   "source": [
    "model = LogisticRegression(random_state=42)\n",
    "model.fit(x_train_features, y_train)\n",
    "\n",
    "y_train_prediction = model.predict(x_train_features)\n",
    "training_data_accuracy = accuracy_score(y_train, y_train_prediction)\n",
    "print(\"Accuracy on training data = \", training_data_accuracy)\n",
    "print(\"Classification Report: \\n\", classification_report(y_train, y_train_prediction))\n",
    "print(\"Confusion Matrix: \\n\", confusion_matrix(y_train, y_train_prediction))\n",
    "\n",
    "y_test_pred_logistic = model.predict(x_test_features)\n",
    "testing_data_accuracy = accuracy_score(y_test, y_test_pred_logistic)\n",
    "print(\"\\n\\nAccuracy on testing data = \", testing_data_accuracy)\n",
    "print(\"Classification Report: \\n\", classification_report(y_test, y_test_pred_logistic))\n",
    "print(\"Confusion Matrix: \\n\", confusion_matrix(y_test, y_test_pred_logistic))"
   ]
  },
  {
   "cell_type": "markdown",
   "id": "b9fc176d-c5f7-4f57-b33d-61071a6976c7",
   "metadata": {},
   "source": [
    "## 2. Random Forest"
   ]
  },
  {
   "cell_type": "code",
   "execution_count": 15,
   "id": "d84b690f-f447-490b-bc58-d50b6df7769a",
   "metadata": {},
   "outputs": [
    {
     "name": "stdout",
     "output_type": "stream",
     "text": [
      "Accuracy on training data =  1.0\n",
      "Classification Report: \n",
      "               precision    recall  f1-score   support\n",
      "\n",
      "           0       1.00      1.00      1.00      3860\n",
      "           1       1.00      1.00      1.00       597\n",
      "\n",
      "    accuracy                           1.00      4457\n",
      "   macro avg       1.00      1.00      1.00      4457\n",
      "weighted avg       1.00      1.00      1.00      4457\n",
      "\n",
      "Confusion Matrix: \n",
      " [[3860    0]\n",
      " [   0  597]]\n",
      "\n",
      "\n",
      "Accuracy on testing data =  0.9766816143497757\n",
      "Classification Report: \n",
      "               precision    recall  f1-score   support\n",
      "\n",
      "           0       0.97      1.00      0.99       965\n",
      "           1       0.99      0.83      0.91       150\n",
      "\n",
      "    accuracy                           0.98      1115\n",
      "   macro avg       0.98      0.92      0.95      1115\n",
      "weighted avg       0.98      0.98      0.98      1115\n",
      "\n",
      "Confusion Matrix: \n",
      " [[964   1]\n",
      " [ 25 125]]\n"
     ]
    }
   ],
   "source": [
    "rf = RandomForestClassifier(n_estimators=100, random_state=42)\n",
    "rf.fit(x_train_features, y_train)\n",
    "\n",
    "y_train_prediction = rf.predict(x_train_features)\n",
    "training_data_accuracy = accuracy_score(y_train, y_train_prediction)\n",
    "print(\"Accuracy on training data = \", training_data_accuracy)\n",
    "print(\"Classification Report: \\n\", classification_report(y_train, y_train_prediction))\n",
    "print(\"Confusion Matrix: \\n\", confusion_matrix(y_train, y_train_prediction))\n",
    "\n",
    "y_test_pred_rf = rf.predict(x_test_features)\n",
    "testing_data_accuracy = accuracy_score(y_test, y_test_pred_rf)\n",
    "print(\"\\n\\nAccuracy on testing data = \", testing_data_accuracy)\n",
    "print(\"Classification Report: \\n\", classification_report(y_test, y_test_pred_rf))\n",
    "print(\"Confusion Matrix: \\n\", confusion_matrix(y_test, y_test_pred_rf))"
   ]
  },
  {
   "cell_type": "markdown",
   "id": "8b752df0-8748-4cf3-97cd-c312031d54b6",
   "metadata": {},
   "source": [
    "## 3. Support Vector Machine"
   ]
  },
  {
   "cell_type": "code",
   "execution_count": 16,
   "id": "0d01164c-9524-4de5-a320-787c0019d94a",
   "metadata": {},
   "outputs": [
    {
     "name": "stdout",
     "output_type": "stream",
     "text": [
      "Accuracy on training data =  0.9984294368409243\n",
      "Classification Report: \n",
      "               precision    recall  f1-score   support\n",
      "\n",
      "           0       1.00      1.00      1.00      3860\n",
      "           1       1.00      0.99      0.99       597\n",
      "\n",
      "    accuracy                           1.00      4457\n",
      "   macro avg       1.00      0.99      1.00      4457\n",
      "weighted avg       1.00      1.00      1.00      4457\n",
      "\n",
      "Confusion Matrix: \n",
      " [[3860    0]\n",
      " [   7  590]]\n",
      "Accuracy on testing data =  0.9766816143497757\n",
      "Classification Report: \n",
      "               precision    recall  f1-score   support\n",
      "\n",
      "           0       0.97      1.00      0.99       965\n",
      "           1       0.99      0.83      0.91       150\n",
      "\n",
      "    accuracy                           0.98      1115\n",
      "   macro avg       0.98      0.92      0.95      1115\n",
      "weighted avg       0.98      0.98      0.98      1115\n",
      "\n",
      "Confusion Matrix: \n",
      " [[964   1]\n",
      " [ 25 125]]\n"
     ]
    }
   ],
   "source": [
    "svc = SVC(random_state=42)\n",
    "svc.fit(x_train_features, y_train)\n",
    "\n",
    "y_train_prediction = svc.predict(x_train_features)\n",
    "training_data_accuracy = accuracy_score(y_train, y_train_prediction)\n",
    "print(\"Accuracy on training data = \", training_data_accuracy)\n",
    "print(\"Classification Report: \\n\", classification_report(y_train, y_train_prediction))\n",
    "print(\"Confusion Matrix: \\n\", confusion_matrix(y_train, y_train_prediction))\n",
    "\n",
    "y_test_pred_svc = svc.predict(x_test_features)\n",
    "testing_data_accuracy = accuracy_score(y_test, y_test_pred_svc)\n",
    "print(\"Accuracy on testing data = \", testing_data_accuracy)\n",
    "print(\"Classification Report: \\n\", classification_report(y_test, y_test_pred_svc))\n",
    "print(\"Confusion Matrix: \\n\", confusion_matrix(y_test, y_test_pred_svc))"
   ]
  },
  {
   "cell_type": "markdown",
   "id": "50878fff-e0dc-4cb2-af87-0d092e6ba0d9",
   "metadata": {},
   "source": [
    "## 4. Decision Tree"
   ]
  },
  {
   "cell_type": "code",
   "execution_count": 17,
   "id": "57c94334-41b6-47e3-ab5c-99575243deba",
   "metadata": {},
   "outputs": [
    {
     "name": "stdout",
     "output_type": "stream",
     "text": [
      "Accuracy on training data =  1.0\n",
      "Classification Report: \n",
      "               precision    recall  f1-score   support\n",
      "\n",
      "           0       1.00      1.00      1.00      3860\n",
      "           1       1.00      1.00      1.00       597\n",
      "\n",
      "    accuracy                           1.00      4457\n",
      "   macro avg       1.00      1.00      1.00      4457\n",
      "weighted avg       1.00      1.00      1.00      4457\n",
      "\n",
      "Confusion Matrix: \n",
      " [[3860    0]\n",
      " [   0  597]]\n",
      "\n",
      "\n",
      "Accuracy on testing data =  0.9695067264573991\n",
      "Classification Report: \n",
      "               precision    recall  f1-score   support\n",
      "\n",
      "           0       0.97      0.99      0.98       965\n",
      "           1       0.93      0.83      0.88       150\n",
      "\n",
      "    accuracy                           0.97      1115\n",
      "   macro avg       0.95      0.91      0.93      1115\n",
      "weighted avg       0.97      0.97      0.97      1115\n",
      "\n",
      "Confusion Matrix: \n",
      " [[956   9]\n",
      " [ 25 125]]\n"
     ]
    }
   ],
   "source": [
    "decision_tree = DecisionTreeClassifier(random_state=42)\n",
    "decision_tree.fit(x_train_features, y_train)\n",
    "\n",
    "y_train_prediction = decision_tree.predict(x_train_features)\n",
    "training_data_accuracy = accuracy_score(y_train, y_train_prediction)\n",
    "print(\"Accuracy on training data = \", training_data_accuracy)\n",
    "print(\"Classification Report: \\n\", classification_report(y_train, y_train_prediction))\n",
    "print(\"Confusion Matrix: \\n\", confusion_matrix(y_train, y_train_prediction))\n",
    "\n",
    "y_test_pred_dt = decision_tree.predict(x_test_features)\n",
    "testing_data_accuracy = accuracy_score(y_test, y_test_pred_dt)\n",
    "print(\"\\n\\nAccuracy on testing data = \", testing_data_accuracy)\n",
    "print(\"Classification Report: \\n\", classification_report(y_test, y_test_pred_dt))\n",
    "print(\"Confusion Matrix: \\n\", confusion_matrix(y_test, y_test_pred_dt))"
   ]
  },
  {
   "cell_type": "markdown",
   "id": "6e75ddf5-befb-43fe-ad98-523c8d746834",
   "metadata": {},
   "source": [
    "## 5. K-Nearest Neighbors"
   ]
  },
  {
   "cell_type": "code",
   "execution_count": 18,
   "id": "d9f36fad-c978-4cdb-9b64-e0e321206fc2",
   "metadata": {},
   "outputs": [
    {
     "name": "stdout",
     "output_type": "stream",
     "text": [
      "Accuracy on training data =  0.9158626879066637\n",
      "Classification Report: \n",
      "               precision    recall  f1-score   support\n",
      "\n",
      "           0       0.91      1.00      0.95      3860\n",
      "           1       1.00      0.37      0.54       597\n",
      "\n",
      "    accuracy                           0.92      4457\n",
      "   macro avg       0.96      0.69      0.75      4457\n",
      "weighted avg       0.92      0.92      0.90      4457\n",
      "\n",
      "Confusion Matrix: \n",
      " [[3860    0]\n",
      " [ 375  222]]\n",
      "\n",
      "\n",
      "Accuracy on testing data =  0.9130044843049328\n",
      "Classification Report: \n",
      "               precision    recall  f1-score   support\n",
      "\n",
      "           0       0.91      1.00      0.95       965\n",
      "           1       1.00      0.35      0.52       150\n",
      "\n",
      "    accuracy                           0.91      1115\n",
      "   macro avg       0.95      0.68      0.74      1115\n",
      "weighted avg       0.92      0.91      0.89      1115\n",
      "\n",
      "Confusion Matrix: \n",
      " [[965   0]\n",
      " [ 97  53]]\n"
     ]
    }
   ],
   "source": [
    "knn = KNeighborsClassifier(n_neighbors=5)\n",
    "knn.fit(x_train_features, y_train)\n",
    "\n",
    "y_train_prediction = knn.predict(x_train_features)\n",
    "training_data_accuracy = accuracy_score(y_train, y_train_prediction)\n",
    "print(\"Accuracy on training data = \", training_data_accuracy)\n",
    "print(\"Classification Report: \\n\", classification_report(y_train, y_train_prediction))\n",
    "print(\"Confusion Matrix: \\n\", confusion_matrix(y_train, y_train_prediction))\n",
    "\n",
    "y_test_pred_knn = knn.predict(x_test_features)\n",
    "testing_data_accuracy = accuracy_score(y_test, y_test_pred_knn)\n",
    "print(\"\\n\\nAccuracy on testing data = \", testing_data_accuracy)\n",
    "print(\"Classification Report: \\n\", classification_report(y_test, y_test_pred_knn))\n",
    "print(\"Confusion Matrix: \\n\", confusion_matrix(y_test, y_test_pred_knn))"
   ]
  },
  {
   "cell_type": "code",
   "execution_count": 19,
   "id": "ad19d775-22b5-4746-8efb-53fa23dd5bed",
   "metadata": {},
   "outputs": [
    {
     "data": {
      "image/png": "[encoded data removed]",
      "text/plain": [
       "<Figure size 640x480 with 1 Axes>"
      ]
     },
     "metadata": {},
     "output_type": "display_data"
    }
   ],
   "source": [
    "# Final comparison of the model accuracies\n",
    "models = ['SVM', 'Random Forest', 'K-NN', 'Decision Tree', 'Logistic Regression']\n",
    "accuracies = [\n",
    "    accuracy_score(y_test, y_test_pred_svc),\n",
    "    accuracy_score(y_test, y_test_pred_rf),\n",
    "    accuracy_score(y_test, y_test_pred_knn),\n",
    "    accuracy_score(y_test, y_test_pred_dt),\n",
    "    accuracy_score(y_test, y_test_pred_logistic)\n",
    "]\n",
    "\n",
    "plt.bar(models, accuracies, color=['blue', 'green', 'red', 'purple', 'orange'])\n",
    "plt.ylabel('Accuracy')\n",
    "plt.title('Model Accuracy Comparison')\n",
    "plt.show()"
   ]
  },
  {
   "cell_type": "code",
   "execution_count": 20,
   "id": "4ef0eb96-e4a6-4e90-81cc-0e05b9af3cea",
   "metadata": {},
   "outputs": [],
   "source": [
    "with open('Spam SMS Detection.pickle', 'wb') as file:\n",
    "     pickle.dump(rf, file)"
   ]
  },
  {
   "cell_type": "code",
   "execution_count": 21,
   "id": "f3a72675-2219-4c68-8d52-6f5315f34296",
   "metadata": {},
   "outputs": [],
   "source": [
    "with open('vectorizer.pickle', 'wb') as vectorizer_file:\n",
    "    pickle.dump(feature_extraction, vectorizer_file)"
   ]
  }
 ],
 "metadata": {
  "kernelspec": {
   "display_name": "Python 3 (ipykernel)",
   "language": "python",
   "name": "python3"
  },
  "language_info": {
   "codemirror_mode": {
    "name": "ipython",
    "version": 3
   },
   "file_extension": ".py",
   "mimetype": "text/x-python",
   "name": "python",
   "nbconvert_exporter": "python",
   "pygments_lexer": "ipython3",
   "version": "3.12.4"
  }
 },
 "nbformat": 4,
 "nbformat_minor": 5
}
